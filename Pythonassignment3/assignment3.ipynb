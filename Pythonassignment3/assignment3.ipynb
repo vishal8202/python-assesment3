{
 "cells": [
  {
   "cell_type": "markdown",
   "metadata": {},
   "source": [
    "#Problem 1 \n",
    "(Temperature problem)\n",
    "Create a temperature class.Make two methods:\n",
    "1.convertFrahrenheit - It will take celsius and will print it into Fahrenheit.\n",
    "2.convertCelsius - It will take Fahrenheit and will convert it into Celsius"
   ]
  },
  {
   "cell_type": "code",
   "execution_count": 8,
   "metadata": {},
   "outputs": [],
   "source": [
    "class Temprature:\n",
    "    def __init__(self,celsius,fahrenheit):\n",
    "        self.celsius = celsius\n",
    "        self.fahrenheit = fahrenheit\n",
    "        \n",
    "    def convertFahrenheit(self):\n",
    "        #°F = °C × (9/5) + 32.\n",
    "        F = self.celsius * (9/5) + 32\n",
    "        return F\n",
    "    \n",
    "    def convertCelsius(self):\n",
    "        #5/9 x (F - 32)\n",
    "        C = (5/9) * (self.fahrenheit - 32)\n",
    "        return C"
   ]
  },
  {
   "cell_type": "code",
   "execution_count": 9,
   "metadata": {},
   "outputs": [
    {
     "data": {
      "text/plain": [
       "68.0"
      ]
     },
     "execution_count": 9,
     "metadata": {},
     "output_type": "execute_result"
    }
   ],
   "source": [
    "Tem = Temprature(20,10)\n",
    "Tem.convertFahrenheit()"
   ]
  },
  {
   "cell_type": "code",
   "execution_count": 11,
   "metadata": {},
   "outputs": [],
   "source": [
    "tem1 = Temprature(20,68)"
   ]
  },
  {
   "cell_type": "code",
   "execution_count": 12,
   "metadata": {},
   "outputs": [
    {
     "data": {
      "text/plain": [
       "68.0"
      ]
     },
     "execution_count": 12,
     "metadata": {},
     "output_type": "execute_result"
    }
   ],
   "source": [
    "tem1.convertFahrenheit()"
   ]
  },
  {
   "cell_type": "code",
   "execution_count": 13,
   "metadata": {},
   "outputs": [
    {
     "data": {
      "text/plain": [
       "20.0"
      ]
     },
     "execution_count": 13,
     "metadata": {},
     "output_type": "execute_result"
    }
   ],
   "source": [
    "tem1.convertCelsius()"
   ]
  },
  {
   "cell_type": "markdown",
   "metadata": {},
   "source": [
    "Problem 2 (Time Problem)\n",
    "Create a Time class initialize it with hours and minutes.\n",
    "1.Make a method addTime which should take two time object and add them.\n",
    "2.Make a method displayTime which should print the time\n",
    "3.Make a method DisplayMinute which should display the total minutes in the Time should display 62 minute"
   ]
  },
  {
   "cell_type": "code",
   "execution_count": 3,
   "metadata": {},
   "outputs": [],
   "source": [
    "import math  \n",
    "class Time:\n",
    "    def __init__(self,hours,minutes):\n",
    "        self.hours = hours\n",
    "        self.minutes = minutes\n",
    "        #self.hour = 0\n",
    "        #self.mins = 0\n",
    "        \n",
    "    def addTime(self,ob):\n",
    "        \n",
    "        if(ob.hours < 1) or (self.hours < 1):\n",
    "            \n",
    "            a = (ob.hours + self.hours)*60\n",
    "            b = (ob.minutes + self.minutes) - 60\n",
    "            h = (a + b)/60\n",
    "            hour = math.ceil(h)\n",
    "            \n",
    "            if(self.hours < 1):\n",
    "                mins = self.hours + b\n",
    "                \n",
    "            else:\n",
    "                mins = ob.hours + b\n",
    "                \n",
    "                \n",
    "        else:\n",
    "            hour = ob.hours + self.hours\n",
    "            mins = ob.minutes + self.minutes\n",
    "            \n",
    "        print(hour,\"hr and \",mins,\"min\")\n",
    "            \n",
    "    def displayTime(self):\n",
    "        print(self.hours,\"hr and \",self.minutes,\"min\")\n",
    "        \n",
    "    def DisplayMinute(self):\n",
    "        h = self.hours * 60\n",
    "        total_min = h + self.minutes\n",
    "        return total_min"
   ]
  },
  {
   "cell_type": "code",
   "execution_count": 4,
   "metadata": {},
   "outputs": [
    {
     "name": "stdout",
     "output_type": "stream",
     "text": [
      "2 hr and  10 min\n"
     ]
    }
   ],
   "source": [
    "t1 = Time(0,20)\n",
    "t2 = Time(1,50)\n",
    "t2.addTime(t1)"
   ]
  },
  {
   "cell_type": "code",
   "execution_count": 5,
   "metadata": {},
   "outputs": [
    {
     "name": "stdout",
     "output_type": "stream",
     "text": [
      "0 hr and  20 min\n"
     ]
    }
   ],
   "source": [
    "t1.displayTime()"
   ]
  },
  {
   "cell_type": "code",
   "execution_count": 6,
   "metadata": {},
   "outputs": [
    {
     "data": {
      "text/plain": [
       "20"
      ]
     },
     "execution_count": 6,
     "metadata": {},
     "output_type": "execute_result"
    }
   ],
   "source": [
    "t1.DisplayMinute()"
   ]
  },
  {
   "cell_type": "code",
   "execution_count": 7,
   "metadata": {},
   "outputs": [
    {
     "data": {
      "text/plain": [
       "110"
      ]
     },
     "execution_count": 7,
     "metadata": {},
     "output_type": "execute_result"
    }
   ],
   "source": [
    "t2.DisplayMinute()"
   ]
  },
  {
   "cell_type": "code",
   "execution_count": null,
   "metadata": {},
   "outputs": [],
   "source": []
  }
 ],
 "metadata": {
  "kernelspec": {
   "display_name": "Python 3.10.8 64-bit (microsoft store)",
   "language": "python",
   "name": "python3"
  },
  "language_info": {
   "codemirror_mode": {
    "name": "ipython",
    "version": 3
   },
   "file_extension": ".py",
   "mimetype": "text/x-python",
   "name": "python",
   "nbconvert_exporter": "python",
   "pygments_lexer": "ipython3",
   "version": "3.10.8"
  },
  "orig_nbformat": 4,
  "vscode": {
   "interpreter": {
    "hash": "eb27ebc11b61f5d73d518ed40ecb8d787c96f0c6eac54653c8bb5bdbd45220cb"
   }
  }
 },
 "nbformat": 4,
 "nbformat_minor": 2
}
